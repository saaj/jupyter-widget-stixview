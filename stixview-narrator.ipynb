{
 "cells": [
  {
   "cell_type": "code",
   "execution_count": 51,
   "metadata": {},
   "outputs": [],
   "source": [
    "from IPython.display import display, HTML\n",
    "\n",
    "import json\n",
    "import requests\n",
    "from jupyter_widget_stixview.widget import StixviewGraph\n",
    "\n",
    "from stix2 import (\n",
    "    Bundle, Indicator, Malware, Relationship,\n",
    "    AttackPattern, Campaign, ThreatActor)\n",
    "\n",
    "\n",
    "narrator_api = \"https://polzunov.com/narrator/report/\"\n",
    "\n",
    "\n",
    "def as_bundle(objects):\n",
    "    bundle_obj = Bundle(*objects)\n",
    "    return json.loads(bundle_obj.serialize())\n",
    "\n",
    "\n",
    "def get_report(data):\n",
    "    r = requests.post(narrator_api, json=data)\n",
    "    r.raise_for_status()\n",
    "    response = r.json()\n",
    "    return response['text']\n",
    "\n",
    "\n",
    "def render_html(html):\n",
    "    display(HTML(html))"
   ]
  },
  {
   "cell_type": "code",
   "execution_count": 54,
   "metadata": {},
   "outputs": [
    {
     "data": {
      "application/vnd.jupyter.widget-view+json": {
       "model_id": "f522a42f4b7d4c42a0518dd1928887f0",
       "version_major": 2,
       "version_minor": 0
      },
      "text/plain": [
       "StixviewGraph(bundle={'objects': [{'name': 'File hash for malware variant X', 'labels': ['malicious-activity']…"
      ]
     },
     "metadata": {},
     "output_type": "display_data"
    }
   ],
   "source": [
    "indicator = Indicator(\n",
    "    name=\"File hash for malware variant X\",\n",
    "    labels=[\"malicious-activity\"],\n",
    "    pattern=\"[file:hashes.md5 = 'd41d8cd98f00b204e9800998ecf8427e']\")\n",
    "\n",
    "malware = Malware(\n",
    "    name=\"Malware Variant X\",\n",
    "    labels=['remote-access-trojan'])\n",
    "\n",
    "rel1 = Relationship(\n",
    "    source_ref=indicator.id,\n",
    "    relationship_type='indicates',\n",
    "    target_ref=malware.id)\n",
    "\n",
    "campaign = Campaign(name=\"Campaign Y\")\n",
    "\n",
    "rel2 = Relationship(\n",
    "    source_ref=campaign.id,\n",
    "    relationship_type='uses',\n",
    "    target_ref=malware.id)\n",
    "\n",
    "actor = ThreatActor(\n",
    "    name='Actor Z',\n",
    "    labels=['criminal'])\n",
    "\n",
    "rel3 = Relationship(\n",
    "    source_ref=campaign.id,\n",
    "    relationship_type='attributed-to',\n",
    "    target_ref=actor.id)\n",
    "\n",
    "objects = [indicator, malware, rel1, campaign, rel2, actor, rel3]\n",
    "\n",
    "StixviewGraph(\n",
    "    bundle=as_bundle(objects),\n",
    "    properties={\"graphHeight\": 300})"
   ]
  },
  {
   "cell_type": "code",
   "execution_count": 55,
   "metadata": {},
   "outputs": [
    {
     "data": {
      "text/html": [
       "<h1>Timeline Overview.</h1>In May, 2020, 1 indicators, 1 malwares, 1 campaigns and 1 threat actors had been published.<h2>May, 2020.</h2><p>In May, 2020, 1 indicators, 1 malwares, 1 campaigns and 1 threat actors had been publicly released.</p><h3>\"File hash for malware variant X\".</h3><p>File hash for malware variant X has been published on May 5, 2020. Its indicator type is not provided. The indicator's description is not provided.</p><p>Its pattern type is not provided. The indicator's pattern is <pre>[file:hashes.md5 = 'd41d8cd98f00b204e9800998ecf8427e']</pre><p>Its \"valid from\" time is May 5, 2020. The indicator's \"valid until\" time is not provided.</p><p>Its kill chain phase is not provided.</p><h3>Malware Variant X.</h3><p>Malware Variant X has been released on May 5, 2020. Its description is not provided. Its kill chain phase is not provided.</p><h3>Campaign Y.</h3><p>Campaign Y alias is not provided. The campaign's objective is not provided. The campaign's description is not provided. Its first seen time is not provided. Its last seen time is not provided.</p><p>Actor Z has been released on May 5, 2020. Its description is not provided.</p>"
      ],
      "text/plain": [
       "<IPython.core.display.HTML object>"
      ]
     },
     "metadata": {},
     "output_type": "display_data"
    }
   ],
   "source": [
    "render_html(get_report({\n",
    "    \"bundle\": as_bundle(objects),\n",
    "    \"type\": \"timeline\",\n",
    "    \"seed\": None,\n",
    "}))"
   ]
  },
  {
   "cell_type": "code",
   "execution_count": 56,
   "metadata": {},
   "outputs": [
    {
     "data": {
      "text/html": [
       "<h1>Overview of Malware Variant X.</h1><h3>Malware Variant X.</h3><p>The malware has been publicly released on May 5, 2020. The malware's description is not provided. Its kill chain phase is not provided.</p><h2>Associated campaigns.</h2><p>The malware is related to 1 campaign.</p><h3>Campaign Y.</h3><p>Campaign Y alias is not provided. The campaign's objective is not provided. Its description is not provided. The campaign's first seen time is not provided. Its last seen time is not provided.</p><h2>Associated MITRE ATT&CK TTPs.</h2><p>No entities found.</p><h2>Associated indicators.</h2><p>It is related to 1 indicator. <ul><li>File hash for malware variant X.</li></ul>"
      ],
      "text/plain": [
       "<IPython.core.display.HTML object>"
      ]
     },
     "metadata": {},
     "output_type": "display_data"
    }
   ],
   "source": [
    "render_html(get_report({\n",
    "    \"bundle\": as_bundle(objects),\n",
    "    \"type\": \"entity-overview\",\n",
    "    \"seed\": str(malware.id),\n",
    "}))"
   ]
  },
  {
   "cell_type": "code",
   "execution_count": null,
   "metadata": {},
   "outputs": [],
   "source": []
  }
 ],
 "metadata": {
  "hide_input": false,
  "kernelspec": {
   "display_name": "Python 3",
   "language": "python",
   "name": "python3"
  },
  "language_info": {
   "codemirror_mode": {
    "name": "ipython",
    "version": 3
   },
   "file_extension": ".py",
   "mimetype": "text/x-python",
   "name": "python",
   "nbconvert_exporter": "python",
   "pygments_lexer": "ipython3",
   "version": "3.7.6"
  },
  "widgets": {
   "application/vnd.jupyter.widget-state+json": {
    "state": {
     "1f6e79dd1186499da76fc294c3412b11": {
      "model_module": "jupyter-widget-stixview",
      "model_module_version": "^1.0.2",
      "model_name": "StixviewGraphModel",
      "state": {
       "_model_module_version": "^1.0.2",
       "_view_module_version": "^1.0.2",
       "bundle": {
        "id": "bundle--e14ab4b1-f591-442c-bc71-402afe279590",
        "objects": [
         {
          "created": "2020-05-04T13:17:25.224Z",
          "id": "indicator--cca316f6-8eea-413e-aaef-e5ba5f3b3bbb",
          "labels": [
           "malicious-activity"
          ],
          "modified": "2020-05-04T13:17:25.224Z",
          "name": "File hash for malware variant X",
          "pattern": "[file:hashes.md5 = 'd41d8cd98f00b204e9800998ecf8427e']",
          "type": "indicator",
          "valid_from": "2020-05-04T13:17:25.224408Z"
         },
         {
          "created": "2020-05-04T13:17:25.225Z",
          "id": "malware--c0a19a05-d158-45b3-8878-4d9046146c69",
          "labels": [
           "remote-access-trojan"
          ],
          "modified": "2020-05-04T13:17:25.225Z",
          "name": "Malware Variant X",
          "type": "malware"
         },
         {
          "created": "2020-05-04T13:17:25.226Z",
          "id": "relationship--7057f0df-d292-4b78-8094-aec14db7078d",
          "modified": "2020-05-04T13:17:25.226Z",
          "relationship_type": "indicates",
          "source_ref": "indicator--cca316f6-8eea-413e-aaef-e5ba5f3b3bbb",
          "target_ref": "malware--c0a19a05-d158-45b3-8878-4d9046146c69",
          "type": "relationship"
         }
        ],
        "spec_version": "2.0",
        "type": "bundle"
       },
       "gist_file": "",
       "gist_id": "",
       "layout": "IPY_MODEL_f8777f32a61949429726762e384baba2",
       "properties": {
        "graphHeight": 300
       },
       "timeout": 0,
       "url": ""
      }
     },
     "282575e2ff5d456fb33858b68929d6d4": {
      "model_module": "jupyter-widget-stixview",
      "model_module_version": "^1.0.2",
      "model_name": "StixviewGraphModel",
      "state": {
       "_model_module_version": "^1.0.2",
       "_view_module_version": "^1.0.2",
       "bundle": {
        "id": "bundle--4bef9e7b-ddb9-4e03-8a16-ffa972913fdf",
        "objects": [
         {
          "created": "2020-05-05T11:34:06.504Z",
          "id": "indicator--accb14b8-84a5-4b47-aad9-cff4dbc8c7b3",
          "labels": [
           "malicious-activity"
          ],
          "modified": "2020-05-05T11:34:06.504Z",
          "name": "File hash for malware variant X",
          "pattern": "[file:hashes.md5 = 'd41d8cd98f00b204e9800998ecf8427e']",
          "type": "indicator",
          "valid_from": "2020-05-05T11:34:06.504246Z"
         },
         {
          "created": "2020-05-05T11:34:06.512Z",
          "id": "malware--987fb9fc-857f-4900-a556-80c54820a929",
          "labels": [
           "remote-access-trojan"
          ],
          "modified": "2020-05-05T11:34:06.512Z",
          "name": "Malware Variant X",
          "type": "malware"
         },
         {
          "created": "2020-05-05T11:34:06.512Z",
          "id": "relationship--d39f9c5a-cdec-4c6d-9e9d-de83ff5fa911",
          "modified": "2020-05-05T11:34:06.512Z",
          "relationship_type": "indicates",
          "source_ref": "indicator--accb14b8-84a5-4b47-aad9-cff4dbc8c7b3",
          "target_ref": "malware--987fb9fc-857f-4900-a556-80c54820a929",
          "type": "relationship"
         }
        ],
        "spec_version": "2.0",
        "type": "bundle"
       },
       "gist_file": "",
       "gist_id": "",
       "layout": "IPY_MODEL_357687625e254bd190b6d6ba60ba7ce5",
       "properties": {
        "graphHeight": 300
       },
       "timeout": 0,
       "url": ""
      }
     },
     "2e1daaee6a69415896e879dd1bc48110": {
      "model_module": "@jupyter-widgets/base",
      "model_module_version": "1.2.0",
      "model_name": "LayoutModel",
      "state": {}
     },
     "357687625e254bd190b6d6ba60ba7ce5": {
      "model_module": "@jupyter-widgets/base",
      "model_module_version": "1.2.0",
      "model_name": "LayoutModel",
      "state": {}
     },
     "40d75a69d46f489da2043cb01c770b66": {
      "model_module": "jupyter-widget-stixview",
      "model_module_version": "^1.0.2",
      "model_name": "StixviewGraphModel",
      "state": {
       "_model_module_version": "^1.0.2",
       "_view_module_version": "^1.0.2",
       "bundle": {
        "id": "bundle--39dec7ba-fca8-4bb0-8707-d5ee15ce4541",
        "objects": [
         {
          "created": "2020-05-05T09:26:06.992Z",
          "id": "indicator--4884df85-e0b1-4295-8705-8cba946c1c37",
          "labels": [
           "malicious-activity"
          ],
          "modified": "2020-05-05T09:26:06.992Z",
          "name": "File hash for malware variant X",
          "pattern": "[file:hashes.md5 = 'd41d8cd98f00b204e9800998ecf8427e']",
          "type": "indicator",
          "valid_from": "2020-05-05T09:26:06.992745Z"
         },
         {
          "created": "2020-05-05T09:26:06.994Z",
          "id": "malware--40f03d83-6c76-4bab-820d-c2a5b8e90abb",
          "labels": [
           "remote-access-trojan"
          ],
          "modified": "2020-05-05T09:26:06.994Z",
          "name": "Malware Variant X",
          "type": "malware"
         },
         {
          "created": "2020-05-05T09:26:06.994Z",
          "id": "relationship--109a1015-2528-446d-ba64-d9d9be7a67fd",
          "modified": "2020-05-05T09:26:06.994Z",
          "relationship_type": "indicates",
          "source_ref": "indicator--4884df85-e0b1-4295-8705-8cba946c1c37",
          "target_ref": "malware--40f03d83-6c76-4bab-820d-c2a5b8e90abb",
          "type": "relationship"
         }
        ],
        "spec_version": "2.0",
        "type": "bundle"
       },
       "gist_file": "",
       "gist_id": "",
       "layout": "IPY_MODEL_b23143f49c6c43f6bab1b6fe27304077",
       "properties": {
        "graphHeight": 300
       },
       "timeout": 0,
       "url": ""
      }
     },
     "419b9324d15a48a78585693c99c3770c": {
      "model_module": "@jupyter-widgets/base",
      "model_module_version": "1.2.0",
      "model_name": "LayoutModel",
      "state": {}
     },
     "556a607d57554927b7afee0d37b8229b": {
      "model_module": "@jupyter-widgets/base",
      "model_module_version": "1.2.0",
      "model_name": "LayoutModel",
      "state": {}
     },
     "5b6d596efe2c4dd1ad72bba2e728f671": {
      "model_module": "jupyter-widget-stixview",
      "model_module_version": "^1.0.2",
      "model_name": "StixviewGraphModel",
      "state": {
       "_model_module_version": "^1.0.2",
       "_view_module_version": "^1.0.2",
       "bundle": {
        "id": "bundle--033c72e9-0411-44e9-9848-29f3a33c0dfe",
        "objects": [
         {
          "created": "2020-05-05T09:33:14.873Z",
          "id": "indicator--a33f213b-7b31-47e2-a810-630bfe55dfd5",
          "labels": [
           "malicious-activity"
          ],
          "modified": "2020-05-05T09:33:14.873Z",
          "name": "File hash for malware variant X",
          "pattern": "[file:hashes.md5 = 'd41d8cd98f00b204e9800998ecf8427e']",
          "type": "indicator",
          "valid_from": "2020-05-05T09:33:14.873868Z"
         },
         {
          "created": "2020-05-05T09:33:14.875Z",
          "id": "malware--a5f6a40f-75ba-4514-a9e4-285f0c96fc9b",
          "labels": [
           "remote-access-trojan"
          ],
          "modified": "2020-05-05T09:33:14.875Z",
          "name": "Malware Variant X",
          "type": "malware"
         },
         {
          "created": "2020-05-05T09:33:14.875Z",
          "id": "relationship--2955d85a-27c6-4ec2-b858-817cac8bd1ed",
          "modified": "2020-05-05T09:33:14.875Z",
          "relationship_type": "indicates",
          "source_ref": "indicator--a33f213b-7b31-47e2-a810-630bfe55dfd5",
          "target_ref": "malware--a5f6a40f-75ba-4514-a9e4-285f0c96fc9b",
          "type": "relationship"
         }
        ],
        "spec_version": "2.0",
        "type": "bundle"
       },
       "gist_file": "",
       "gist_id": "",
       "layout": "IPY_MODEL_419b9324d15a48a78585693c99c3770c",
       "properties": {
        "graphHeight": 300
       },
       "timeout": 0,
       "url": ""
      }
     },
     "6436551f9ee84a7fb6c77f952ef4c358": {
      "model_module": "@jupyter-widgets/base",
      "model_module_version": "1.2.0",
      "model_name": "LayoutModel",
      "state": {}
     },
     "64fa3c5bbd7243e9893f0da6a357313a": {
      "model_module": "@jupyter-widgets/base",
      "model_module_version": "1.2.0",
      "model_name": "LayoutModel",
      "state": {}
     },
     "7e763b465cc5449398c906b5012a50cf": {
      "model_module": "@jupyter-widgets/base",
      "model_module_version": "1.2.0",
      "model_name": "LayoutModel",
      "state": {}
     },
     "7f0746d8c9244ef1a1f983d771644608": {
      "model_module": "jupyter-widget-stixview",
      "model_module_version": "^1.0.2",
      "model_name": "StixviewGraphModel",
      "state": {
       "_model_module_version": "^1.0.2",
       "_view_module_version": "^1.0.2",
       "bundle": {
        "id": "bundle--01a18d46-4f7b-4311-9eb4-fede23174fe1",
        "objects": [
         {
          "created": "2020-05-04T13:17:19.222Z",
          "id": "indicator--85a492aa-c645-484a-b0cf-feaad0170e0d",
          "labels": [
           "malicious-activity"
          ],
          "modified": "2020-05-04T13:17:19.222Z",
          "name": "File hash for malware variant X",
          "pattern": "[file:hashes.md5 = 'd41d8cd98f00b204e9800998ecf8427e']",
          "type": "indicator",
          "valid_from": "2020-05-04T13:17:19.222145Z"
         },
         {
          "created": "2020-05-04T13:17:19.223Z",
          "id": "malware--cb37b9ee-c968-47c5-ae46-862426a99644",
          "labels": [
           "remote-access-trojan"
          ],
          "modified": "2020-05-04T13:17:19.223Z",
          "name": "Malware Variant X",
          "type": "malware"
         },
         {
          "created": "2020-05-04T13:17:19.224Z",
          "id": "relationship--4bafbb2a-5470-4dfb-9a6d-7429f871122c",
          "modified": "2020-05-04T13:17:19.224Z",
          "relationship_type": "indicates",
          "source_ref": "indicator--85a492aa-c645-484a-b0cf-feaad0170e0d",
          "target_ref": "malware--cb37b9ee-c968-47c5-ae46-862426a99644",
          "type": "relationship"
         }
        ],
        "spec_version": "2.0",
        "type": "bundle"
       },
       "gist_file": "",
       "gist_id": "",
       "layout": "IPY_MODEL_7e763b465cc5449398c906b5012a50cf",
       "properties": {
        "graphHeight": 300
       },
       "timeout": 0,
       "url": ""
      }
     },
     "80bd06a70bca4a1fa069fb6d017c1fb1": {
      "model_module": "jupyter-widget-stixview",
      "model_module_version": "^1.0.2",
      "model_name": "StixviewGraphModel",
      "state": {
       "_model_module_version": "^1.0.2",
       "_view_module_version": "^1.0.2",
       "bundle": {
        "id": "bundle--fd9280b1-79ed-4c82-a3aa-1ebee5e366f9",
        "objects": [
         {
          "created": "2020-05-05T18:36:57.323Z",
          "id": "indicator--9dcfbb58-3711-4090-89b3-e3594fc0168e",
          "labels": [
           "malicious-activity"
          ],
          "modified": "2020-05-05T18:36:57.323Z",
          "name": "File hash for malware variant X",
          "pattern": "[file:hashes.md5 = 'd41d8cd98f00b204e9800998ecf8427e']",
          "type": "indicator",
          "valid_from": "2020-05-05T18:36:57.323402Z"
         },
         {
          "created": "2020-05-05T18:36:57.325Z",
          "id": "malware--a39c0a10-5575-4d2f-9627-6f7111cb9cd4",
          "labels": [
           "remote-access-trojan"
          ],
          "modified": "2020-05-05T18:36:57.325Z",
          "name": "Malware Variant X",
          "type": "malware"
         },
         {
          "created": "2020-05-05T18:36:57.325Z",
          "id": "relationship--e172c0ea-67dc-452a-9d02-2767ef647668",
          "modified": "2020-05-05T18:36:57.325Z",
          "relationship_type": "indicates",
          "source_ref": "indicator--9dcfbb58-3711-4090-89b3-e3594fc0168e",
          "target_ref": "malware--a39c0a10-5575-4d2f-9627-6f7111cb9cd4",
          "type": "relationship"
         },
         {
          "created": "2020-05-05T18:36:57.325Z",
          "id": "campaign--76dd05be-2822-482e-86f1-ed6d9ff20fba",
          "modified": "2020-05-05T18:36:57.325Z",
          "name": "Campaign Y",
          "type": "campaign"
         },
         {
          "created": "2020-05-05T18:36:57.326Z",
          "id": "relationship--641c5ec4-9a39-4dae-b9b5-7f5000153d9d",
          "modified": "2020-05-05T18:36:57.326Z",
          "relationship_type": "uses",
          "source_ref": "campaign--76dd05be-2822-482e-86f1-ed6d9ff20fba",
          "target_ref": "malware--a39c0a10-5575-4d2f-9627-6f7111cb9cd4",
          "type": "relationship"
         },
         {
          "created": "2020-05-05T18:36:57.326Z",
          "id": "threat-actor--faa07e5f-8a5b-4fd0-b03c-232df13667b2",
          "labels": [
           "criminal"
          ],
          "modified": "2020-05-05T18:36:57.326Z",
          "name": "Actor Z",
          "type": "threat-actor"
         },
         {
          "created": "2020-05-05T18:36:57.326Z",
          "id": "relationship--f6225a86-fa6a-41d7-9e3b-72accff21c93",
          "modified": "2020-05-05T18:36:57.326Z",
          "relationship_type": "attributed-to",
          "source_ref": "campaign--76dd05be-2822-482e-86f1-ed6d9ff20fba",
          "target_ref": "threat-actor--faa07e5f-8a5b-4fd0-b03c-232df13667b2",
          "type": "relationship"
         }
        ],
        "spec_version": "2.0",
        "type": "bundle"
       },
       "gist_file": "",
       "gist_id": "",
       "layout": "IPY_MODEL_556a607d57554927b7afee0d37b8229b",
       "properties": {
        "graphHeight": 300
       },
       "timeout": 0,
       "url": ""
      }
     },
     "ae588313f97645a093d7448c107d67d2": {
      "model_module": "jupyter-widget-stixview",
      "model_module_version": "^1.0.2",
      "model_name": "StixviewGraphModel",
      "state": {
       "_model_module_version": "^1.0.2",
       "_view_module_version": "^1.0.2",
       "bundle": {
        "id": "bundle--b17ae7d9-55b3-433c-8222-075a3eae03ac",
        "objects": [
         {
          "created": "2020-05-04T13:17:22.414Z",
          "id": "indicator--dbda81b9-750b-4380-9db4-fb3e1f6c935d",
          "labels": [
           "malicious-activity"
          ],
          "modified": "2020-05-04T13:17:22.414Z",
          "name": "File hash for malware variant X",
          "pattern": "[file:hashes.md5 = 'd41d8cd98f00b204e9800998ecf8427e']",
          "type": "indicator",
          "valid_from": "2020-05-04T13:17:22.414076Z"
         },
         {
          "created": "2020-05-04T13:17:22.415Z",
          "id": "malware--45516d59-0f2f-445c-bc01-ff2bbcbc11cf",
          "labels": [
           "remote-access-trojan"
          ],
          "modified": "2020-05-04T13:17:22.415Z",
          "name": "Malware Variant X",
          "type": "malware"
         },
         {
          "created": "2020-05-04T13:17:22.415Z",
          "id": "relationship--be16dd00-1a1a-47f6-ba85-309ccf7c8729",
          "modified": "2020-05-04T13:17:22.415Z",
          "relationship_type": "indicates",
          "source_ref": "indicator--dbda81b9-750b-4380-9db4-fb3e1f6c935d",
          "target_ref": "malware--45516d59-0f2f-445c-bc01-ff2bbcbc11cf",
          "type": "relationship"
         }
        ],
        "spec_version": "2.0",
        "type": "bundle"
       },
       "gist_file": "",
       "gist_id": "",
       "layout": "IPY_MODEL_6436551f9ee84a7fb6c77f952ef4c358",
       "properties": {
        "graphHeight": 300
       },
       "timeout": 0,
       "url": ""
      }
     },
     "b23143f49c6c43f6bab1b6fe27304077": {
      "model_module": "@jupyter-widgets/base",
      "model_module_version": "1.2.0",
      "model_name": "LayoutModel",
      "state": {}
     },
     "d636cd36a56c4f6c9f05f8e30fff9c71": {
      "model_module": "jupyter-widget-stixview",
      "model_module_version": "^1.0.2",
      "model_name": "StixviewGraphModel",
      "state": {
       "_model_module_version": "^1.0.2",
       "_view_module_version": "^1.0.2",
       "bundle": {
        "id": "bundle--6770c9b8-b3cc-45e8-98e4-3851f0b446dc",
        "objects": [
         {
          "created": "2020-05-04T13:17:00.301Z",
          "id": "indicator--37f72884-fcf0-4c07-a550-384db3fe4659",
          "labels": [
           "malicious-activity"
          ],
          "modified": "2020-05-04T13:17:00.301Z",
          "name": "File hash for malware variant X",
          "pattern": "[file:hashes.md5 = 'd41d8cd98f00b204e9800998ecf8427e']",
          "type": "indicator",
          "valid_from": "2020-05-04T13:17:00.301784Z"
         },
         {
          "created": "2020-05-04T13:17:00.318Z",
          "id": "malware--4d165c39-27bc-4613-af51-935f8a35e3c9",
          "labels": [
           "remote-access-trojan"
          ],
          "modified": "2020-05-04T13:17:00.318Z",
          "name": "Malware Variant X",
          "type": "malware"
         },
         {
          "created": "2020-05-04T13:17:00.319Z",
          "id": "relationship--2df5403d-1cf6-4884-bf4d-203f67e5db48",
          "modified": "2020-05-04T13:17:00.319Z",
          "relationship_type": "indicates",
          "source_ref": "indicator--37f72884-fcf0-4c07-a550-384db3fe4659",
          "target_ref": "malware--4d165c39-27bc-4613-af51-935f8a35e3c9",
          "type": "relationship"
         }
        ],
        "spec_version": "2.0",
        "type": "bundle"
       },
       "gist_file": "",
       "gist_id": "",
       "layout": "IPY_MODEL_64fa3c5bbd7243e9893f0da6a357313a",
       "properties": {
        "graphHeight": 300
       },
       "timeout": 0,
       "url": ""
      }
     },
     "f522a42f4b7d4c42a0518dd1928887f0": {
      "model_module": "jupyter-widget-stixview",
      "model_module_version": "^1.0.2",
      "model_name": "StixviewGraphModel",
      "state": {
       "_model_module_version": "^1.0.2",
       "_view_module_version": "^1.0.2",
       "bundle": {
        "id": "bundle--60528871-ca25-4299-885b-c4598d544682",
        "objects": [
         {
          "created": "2020-05-05T18:37:23.275Z",
          "id": "indicator--e0900e53-e3cb-4f2e-be20-05ff8bd9ad3b",
          "labels": [
           "malicious-activity"
          ],
          "modified": "2020-05-05T18:37:23.275Z",
          "name": "File hash for malware variant X",
          "pattern": "[file:hashes.md5 = 'd41d8cd98f00b204e9800998ecf8427e']",
          "type": "indicator",
          "valid_from": "2020-05-05T18:37:23.275568Z"
         },
         {
          "created": "2020-05-05T18:37:23.277Z",
          "id": "malware--7123dba3-df71-4aea-b567-2f5bbd1f3d5e",
          "labels": [
           "remote-access-trojan"
          ],
          "modified": "2020-05-05T18:37:23.277Z",
          "name": "Malware Variant X",
          "type": "malware"
         },
         {
          "created": "2020-05-05T18:37:23.277Z",
          "id": "relationship--55536bcb-f3e2-452a-998e-9f90c9355331",
          "modified": "2020-05-05T18:37:23.277Z",
          "relationship_type": "indicates",
          "source_ref": "indicator--e0900e53-e3cb-4f2e-be20-05ff8bd9ad3b",
          "target_ref": "malware--7123dba3-df71-4aea-b567-2f5bbd1f3d5e",
          "type": "relationship"
         },
         {
          "created": "2020-05-05T18:37:23.277Z",
          "id": "campaign--a3352e84-6d83-4d8e-87df-513d1133312c",
          "modified": "2020-05-05T18:37:23.277Z",
          "name": "Campaign Y",
          "type": "campaign"
         },
         {
          "created": "2020-05-05T18:37:23.277Z",
          "id": "relationship--5208b9d1-66d6-4418-a4ab-ab8ca51602f5",
          "modified": "2020-05-05T18:37:23.277Z",
          "relationship_type": "uses",
          "source_ref": "campaign--a3352e84-6d83-4d8e-87df-513d1133312c",
          "target_ref": "malware--7123dba3-df71-4aea-b567-2f5bbd1f3d5e",
          "type": "relationship"
         },
         {
          "created": "2020-05-05T18:37:23.277Z",
          "id": "threat-actor--cccb1276-01b6-4f26-a4c1-1e1e2547045a",
          "labels": [
           "criminal"
          ],
          "modified": "2020-05-05T18:37:23.277Z",
          "name": "Actor Z",
          "type": "threat-actor"
         },
         {
          "created": "2020-05-05T18:37:23.278Z",
          "id": "relationship--75912ff3-8ddf-4f39-ab4e-6af9e8a440f1",
          "modified": "2020-05-05T18:37:23.278Z",
          "relationship_type": "attributed-to",
          "source_ref": "campaign--a3352e84-6d83-4d8e-87df-513d1133312c",
          "target_ref": "threat-actor--cccb1276-01b6-4f26-a4c1-1e1e2547045a",
          "type": "relationship"
         }
        ],
        "spec_version": "2.0",
        "type": "bundle"
       },
       "gist_file": "",
       "gist_id": "",
       "layout": "IPY_MODEL_2e1daaee6a69415896e879dd1bc48110",
       "properties": {
        "graphHeight": 300
       },
       "timeout": 0,
       "url": ""
      }
     },
     "f8777f32a61949429726762e384baba2": {
      "model_module": "@jupyter-widgets/base",
      "model_module_version": "1.2.0",
      "model_name": "LayoutModel",
      "state": {}
     }
    },
    "version_major": 2,
    "version_minor": 0
   }
  }
 },
 "nbformat": 4,
 "nbformat_minor": 4
}
